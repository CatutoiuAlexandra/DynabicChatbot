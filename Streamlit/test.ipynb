{
 "cells": [
  {
   "cell_type": "code",
   "execution_count": 1,
   "outputs": [
    {
     "data": {
      "text/plain": "'\\na = SecurityOfficer()\\nfor name, value in a.__dict__.items():\\n print(name, type(value))\\n'"
     },
     "execution_count": 1,
     "metadata": {},
     "output_type": "execute_result"
    }
   ],
   "source": [
    "from userUtils import SecurityOfficer\n",
    "import pandas as pd\n",
    "from databaseUtils import *\n",
    "from typing import Union\n",
    "\n",
    "\"\"\"\n",
    "a = SecurityOfficer()\n",
    "for name, value in a.__dict__.items():\n",
    " print(name, type(value))\n",
    "\"\"\""
   ],
   "metadata": {
    "collapsed": false,
    "ExecuteTime": {
     "end_time": "2023-12-28T19:55:20.492685500Z",
     "start_time": "2023-12-28T19:55:18.542650500Z"
    }
   },
   "id": "b2ca8163c0f67992"
  },
  {
   "cell_type": "code",
   "outputs": [],
   "source": [
    "# Create sample\n",
    "df = create_credentials_dataset()"
   ],
   "metadata": {
    "collapsed": false,
    "ExecuteTime": {
     "end_time": "2023-12-28T19:55:20.553039900Z",
     "start_time": "2023-12-28T19:55:20.484368400Z"
    }
   },
   "id": "ff0d1b12c224d7f5",
   "execution_count": 2
  },
  {
   "cell_type": "markdown",
   "source": [],
   "metadata": {
    "collapsed": false
   },
   "id": "d080af50625f2ba"
  },
  {
   "cell_type": "code",
   "outputs": [],
   "source": [
    "# Clear sample\n",
    "df = clear_credentials_dataset(df)\n",
    "save_credentials_dataset(df, 'data/credentials.csv')"
   ],
   "metadata": {
    "collapsed": false,
    "ExecuteTime": {
     "end_time": "2023-12-28T19:55:26.017396700Z",
     "start_time": "2023-12-28T19:55:25.971102700Z"
    }
   },
   "id": "51fae84595cd4659",
   "execution_count": 3
  },
  {
   "cell_type": "code",
   "outputs": [
    {
     "name": "stdout",
     "output_type": "stream",
     "text": [
      "Empty DataFrame\n",
      "Columns: [name, username, password, birthday, expertise, preference, politely, emojis, motivation_factor, can_be_tricked_out_factor, intentional_damage_factor, correct_teamwork]\n",
      "Index: []\n"
     ]
    }
   ],
   "source": [
    "# Load sample\n",
    "df = pd.read_csv(\"data/credentials.csv\")\n",
    "print(df)"
   ],
   "metadata": {
    "collapsed": false,
    "ExecuteTime": {
     "end_time": "2023-12-28T19:55:27.253684400Z",
     "start_time": "2023-12-28T19:55:27.241251600Z"
    }
   },
   "id": "287f6f653285d350",
   "execution_count": 4
  },
  {
   "cell_type": "code",
   "outputs": [],
   "source": [],
   "metadata": {
    "collapsed": false
   },
   "id": "22711d7d5771c745"
  },
  {
   "cell_type": "code",
   "outputs": [],
   "source": [
    "# insert sample\n",
    "import datetime\n",
    "\n",
    "data = {'name':'Ciprian Paduraru', \n",
    "        'username' : 'paduraru2009',\n",
    "        'password' : 'Arbori2009',\n",
    "        'birthday' : datetime.datetime(1986, 9, 3),\n",
    "        'expertise':2, \n",
    "        'preference':1, \n",
    "        'politely':2, \n",
    "        'emojis':1, \n",
    "        'motivation_factor':0.2, \n",
    "        'can_be_tricked_out_factor':0.0, \n",
    "        'intentional_damage_factor':0.5, \n",
    "        'correct_teamwork':0.5}\n",
    "\n",
    "\n",
    "\n",
    "df.loc[len(df.index)] = data\n",
    "\n",
    "save_credentials_dataset(df, 'data/credentials.csv')"
   ],
   "metadata": {
    "collapsed": false,
    "ExecuteTime": {
     "end_time": "2023-12-28T18:17:14.038653600Z",
     "start_time": "2023-12-28T18:17:14.010449100Z"
    }
   },
   "id": "f8e5aadd5dad1340",
   "execution_count": 18
  },
  {
   "cell_type": "code",
   "outputs": [
    {
     "name": "stdout",
     "output_type": "stream",
     "text": [
      "  name username password                   birthday  \\\n",
      "0                        2023-12-28 16:25:32.950444   \n",
      "\n",
      "                           expertise                        preference  \\\n",
      "0  SecurityOfficerExpertise.BEGINNER  Preference_ResponseType.DETAILED   \n",
      "\n",
      "                                  politely                        emojis  \\\n",
      "0  Preference_Politely.POLITE_PRESENTATION  Preference_Emojis.USE_EMOJIS   \n",
      "\n",
      "   motivation_factor  can_be_tricked_out_factor  intentional_damage_factor  \\\n",
      "0                1.0                        0.0                        0.0   \n",
      "\n",
      "   correct_teamwork  \n",
      "0               1.0  \n"
     ]
    }
   ],
   "source": [
    "# Print sample\n",
    "print(df)\n"
   ],
   "metadata": {
    "collapsed": false,
    "ExecuteTime": {
     "end_time": "2023-12-28T14:25:37.493882900Z",
     "start_time": "2023-12-28T14:25:37.488364900Z"
    }
   },
   "id": "9120ed98d4cbf4f",
   "execution_count": 6
  },
  {
   "cell_type": "code",
   "outputs": [],
   "source": [
    "from typing import Union\n",
    "\n",
    "def insertNewUser(user: SecurityOfficer, df: pd.DataFrame):\n",
    "        data = {name:value for name, value in user.__dict__.items()}\n",
    "        df.loc[len(df.index)] = data\n",
    "                \n",
    "a = SecurityOfficer()\n",
    "a.username = \"alin\"\n",
    "insertNewUser(a, df)"
   ],
   "metadata": {
    "collapsed": false,
    "ExecuteTime": {
     "end_time": "2023-12-28T18:17:42.699333700Z",
     "start_time": "2023-12-28T18:17:42.676074200Z"
    }
   },
   "id": "b7ee5ef42309eafd",
   "execution_count": 19
  },
  {
   "cell_type": "code",
   "outputs": [
    {
     "name": "stdout",
     "output_type": "stream",
     "text": [
      "<userUtils.SecurityOfficer object at 0x000002A164F3C150>\n",
      "<userUtils.SecurityOfficer object at 0x000002A164F3CD90>\n",
      "None\n"
     ]
    }
   ],
   "source": [
    "                \n",
    "print(getUserById(\"paduraru2009\"))\n",
    "print(getUserById(\"alin\"))\n",
    "print(getUserById(\"eu\"))"
   ],
   "metadata": {
    "collapsed": false,
    "ExecuteTime": {
     "end_time": "2023-12-28T19:07:36.864007600Z",
     "start_time": "2023-12-28T19:07:36.809307600Z"
    }
   },
   "id": "7bebd65affd14afa",
   "execution_count": 30
  },
  {
   "cell_type": "code",
   "outputs": [
    {
     "data": {
      "text/plain": "{'paduraru2009': {'name': 'Ciprian Paduraru',\n  'password': 'Arbori2009',\n  'birthday': Timestamp('1986-09-03 00:00:00'),\n  'expertise': 2,\n  'preference': 1,\n  'politely': 2,\n  'emojis': 1,\n  'motivation_factor': 0.2,\n  'can_be_tricked_out_factor': 0.0,\n  'intentional_damage_factor': 0.5,\n  'correct_teamwork': 0.5},\n 'alin': {'name': '',\n  'password': '',\n  'birthday': Timestamp('2023-12-28 20:17:42.665536'),\n  'expertise': <SecurityOfficerExpertise.BEGINNER: 0>,\n  'preference': <Preference_ResponseType.DETAILED: 0>,\n  'politely': <Preference_Politely.POLITE_PRESENTATION: 0>,\n  'emojis': <Preference_Emojis.USE_EMOJIS: 0>,\n  'motivation_factor': 1.0,\n  'can_be_tricked_out_factor': 0.0,\n  'intentional_damage_factor': 0.0,\n  'correct_teamwork': 1.0}}"
     },
     "execution_count": 21,
     "metadata": {},
     "output_type": "execute_result"
    }
   ],
   "source": [
    "df.set_index(\"username\").T.to_dict()"
   ],
   "metadata": {
    "collapsed": false,
    "ExecuteTime": {
     "end_time": "2023-12-28T18:30:25.423029200Z",
     "start_time": "2023-12-28T18:30:25.369320900Z"
    }
   },
   "id": "ccc9fbd09a085615",
   "execution_count": 21
  },
  {
   "cell_type": "code",
   "execution_count": 34,
   "outputs": [
    {
     "name": "stdout",
     "output_type": "stream",
     "text": [
      "politely:2\n",
      "loggedin:False\n",
      "password:Arbori2009\n",
      "expertise:2\n",
      "emojis:1\n",
      "username:paduraru2009\n",
      "motivation_factor:0.2\n",
      "correct_teamwork:0.5\n",
      "birthday:1986-09-03 00:00:00\n",
      "name:Ciprian Paduraru\n",
      "intentional_damage_factor:0.5\n",
      "can_be_tricked_out_factor:0.0\n",
      "preference:1\n"
     ]
    }
   ],
   "source": [
    "print(\"\".join({f\"{key}:{value}\\n\" for key,value in getUserById(\"paduraru2009\").__dict__.items()}))"
   ],
   "metadata": {
    "collapsed": false,
    "ExecuteTime": {
     "end_time": "2023-12-28T19:41:14.051122100Z",
     "start_time": "2023-12-28T19:41:14.026404100Z"
    }
   },
   "id": "7e6e24a589e27d8b"
  },
  {
   "cell_type": "code",
   "execution_count": null,
   "outputs": [],
   "source": [],
   "metadata": {
    "collapsed": false
   },
   "id": "b64e6f3d3c19c72f"
  }
 ],
 "metadata": {
  "kernelspec": {
   "display_name": "Python 3",
   "language": "python",
   "name": "python3"
  },
  "language_info": {
   "codemirror_mode": {
    "name": "ipython",
    "version": 2
   },
   "file_extension": ".py",
   "mimetype": "text/x-python",
   "name": "python",
   "nbconvert_exporter": "python",
   "pygments_lexer": "ipython2",
   "version": "2.7.6"
  }
 },
 "nbformat": 4,
 "nbformat_minor": 5
}
