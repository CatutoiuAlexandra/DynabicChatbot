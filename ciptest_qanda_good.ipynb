{
 "cells": [
  {
   "cell_type": "code",
   "execution_count": 1,
   "id": "67b7eef9-23a4-430a-bc89-d3002293e276",
   "metadata": {
    "tags": [],
    "ExecuteTime": {
     "end_time": "2024-01-12T13:32:45.003691900Z",
     "start_time": "2024-01-12T13:32:42.754402800Z"
    }
   },
   "outputs": [],
   "source": [
    "import secrets\n",
    "import json\n",
    "from pathlib import Path\n",
    "import pprint\n",
    "import pdb\n",
    "from typing import Any\n",
    "\n",
    "from etl import markdown, pdfs, shared, videos\n",
    "\n",
    "import docstore\n",
    "import vecstore\n",
    "from utils import pretty_log\n",
    "\n",
    "pp = pprint.PrettyPrinter(indent=2)\n",
    "\n",
    "import torch\n",
    "import transformers\n",
    "from transformers import AutoTokenizer, AutoModelForCausalLM\n",
    "from transformers import pipeline, TextStreamer\n",
    "import json\n",
    "import textwrap\n",
    "from langchain.llms.huggingface_pipeline import HuggingFacePipeline\n",
    "from langchain.prompts import PromptTemplate\n",
    "from langchain.chains import LLMChain, RetrievalQA\n",
    "from langchain.memory import ConversationBufferMemory\n",
    "import langchain\n",
    "import time\n",
    "\n",
    "from langchain.chains.conversational_retrieval.prompts import CONDENSE_QUESTION_PROMPT\n",
    "from langchain.chains.qa_with_sources.loading import load_qa_with_sources_chain\n",
    "from langchain.chains.conversational_retrieval.base import ConversationalRetrievalChain\n",
    "\n",
    "\n",
    "%load_ext autoreload\n",
    "from QuestionAndAnswerUtils import *"
   ]
  },
  {
   "cell_type": "code",
   "execution_count": 2,
   "id": "9b544796-7749-4ab5-888d-476eb2feb652",
   "metadata": {
    "tags": [],
    "ExecuteTime": {
     "end_time": "2024-01-12T13:33:23.511302300Z",
     "start_time": "2024-01-12T13:33:19.390931700Z"
    }
   },
   "outputs": [
    {
     "data": {
      "text/plain": "Loading checkpoint shards:   0%|          | 0/2 [00:00<?, ?it/s]",
      "application/vnd.jupyter.widget-view+json": {
       "version_major": 2,
       "version_minor": 0,
       "model_id": "3f5b56d161a540809a8785c6300bb745"
      }
     },
     "metadata": {},
     "output_type": "display_data"
    },
    {
     "name": "stdout",
     "output_type": "stream",
     "text": [
      "\u001B[1;38;5;214m🥞: found 35 vectors to search over in the database \u001B[0m\n"
     ]
    },
    {
     "ename": "NameError",
     "evalue": "name 'simulate_raq_question' is not defined",
     "output_type": "error",
     "traceback": [
      "\u001B[0;31m---------------------------------------------------------------------------\u001B[0m",
      "\u001B[0;31mNameError\u001B[0m                                 Traceback (most recent call last)",
      "Cell \u001B[0;32mIn[2], line 6\u001B[0m\n\u001B[1;32m      1\u001B[0m securityChatbot \u001B[38;5;241m=\u001B[39m QuestionAndAnsweringCustomLlama2(QuestionRewritingPrompt\u001B[38;5;241m=\u001B[39mQuestionAndAnsweringCustomLlama2\u001B[38;5;241m.\u001B[39mQUESTION_REWRITING_TYPE\u001B[38;5;241m.\u001B[39mQUESTION_REWRITING_DEFAULT,\n\u001B[1;32m      2\u001B[0m                                  QuestionAnsweringPrompt\u001B[38;5;241m=\u001B[39mQuestionAndAnsweringCustomLlama2\u001B[38;5;241m.\u001B[39mSECURITY_PROMPT_TYPE\u001B[38;5;241m.\u001B[39mPROMPT_TYPE_SECURITY_OFFICER_WITH_RAG_MEMORY_NOSOURCES,\n\u001B[1;32m      3\u001B[0m                                  ModelType\u001B[38;5;241m=\u001B[39mQuestionAndAnsweringCustomLlama2\u001B[38;5;241m.\u001B[39mLLAMA2_VERSION_TYPE\u001B[38;5;241m.\u001B[39mLLAMA2_7B_chat,\n\u001B[1;32m      4\u001B[0m                                 debug\u001B[38;5;241m=\u001B[39m\u001B[38;5;28;01mTrue\u001B[39;00m)\n\u001B[0;32m----> 6\u001B[0m simulate_raq_question(\u001B[38;5;124m\"\u001B[39m\u001B[38;5;124mWhat Smart IOT applications do you know best?\u001B[39m\u001B[38;5;124m\"\u001B[39m)\n\u001B[1;32m     12\u001B[0m \u001B[38;5;124;03m\"\"\"\u001B[39;00m\n\u001B[1;32m     13\u001B[0m \u001B[38;5;124;03msecurityChatbot.ask_question(\"What models use human instructions?\")\u001B[39;00m\n\u001B[1;32m     14\u001B[0m \u001B[38;5;124;03msecurityChatbot.ask_question(\"Which are the advantage of each of these models?\")\u001B[39;00m\n\u001B[0;32m   (...)\u001B[0m\n\u001B[1;32m     21\u001B[0m \u001B[38;5;124;03msecurityChatbot.ask_question(\"Which one works best on Windows machines?\")\u001B[39;00m\n\u001B[1;32m     22\u001B[0m \u001B[38;5;124;03m\"\"\"\u001B[39;00m\n",
      "\u001B[0;31mNameError\u001B[0m: name 'simulate_raq_question' is not defined"
     ]
    }
   ],
   "source": [
    "securityChatbot = QuestionAndAnsweringCustomLlama2(QuestionRewritingPrompt=QuestionAndAnsweringCustomLlama2.QUESTION_REWRITING_TYPE.QUESTION_REWRITING_DEFAULT,\n",
    "                                 QuestionAnsweringPrompt=QuestionAndAnsweringCustomLlama2.SECURITY_PROMPT_TYPE.PROMPT_TYPE_SECURITY_OFFICER_WITH_RAG_MEMORY_NOSOURCES,\n",
    "                                 ModelType=QuestionAndAnsweringCustomLlama2.LLAMA2_VERSION_TYPE.LLAMA2_7B_chat,\n",
    "                                debug=True)\n",
    "\n",
    "\n",
    "\n",
    "\n",
    "\n",
    "\n",
    "\n",
    "\"\"\"\n",
    "securityChatbot.ask_question(\"What models use human instructions?\")\n",
    "securityChatbot.ask_question(\"Which are the advantage of each of these models?\")\n",
    "securityChatbot.ask_question(\"What are the downsides of your last model suggested above ?\")\n",
    "\n",
    "\n",
    "\n",
    "securityChatbot.ask_question(\"Give me some indications to solve a denial of service attack.\")\n",
    "securityChatbot.ask_question(\"Give me a few tools for this please\")\n",
    "securityChatbot.ask_question(\"Which one works best on Windows machines?\")\n",
    "\"\"\"\n",
    "\n"
   ]
  },
  {
   "cell_type": "code",
   "outputs": [
    {
     "name": "stdout",
     "output_type": "stream",
     "text": [
      "\u001B[1;38;5;214m🥞: selecting sources by similarity to query \u001B[0m\n",
      "[(Document(page_content='helps users track information about the health of their mouth\\nand use appropriate toothbrushing programs.\\n(4)SmartKettle - An smart kettle Application that speeds up and\\nautomates the preparation of drinks.\\n(5)SmartTV - An smart TV application where users can have\\nindividual profiles and, based on their behavior, a recommen-\\ndation system is used to recommend movies or TV shows.\\n1The repository containing the applications and the Hub can be accesed at this link\\nhttps://github.com/unibuc-cs/IoT-application-set.', metadata={'source': None, 'page': 2, 'is_endmatter': False, 'title': 'notknown', 'full-title': 'notknown - p2', 'sha256': 'e4b1f26f14a9d5db3ced61a81848ad1956f47072d22fe596bff591d913d59028', 'ignore': False}), 0.78705966), (Document(page_content='TABLE I\\nAPPLICATION SETDEVELOPMENT YEARS\\nApplication Set\\nYears No. of projects Valid apps Selected apps\\nFlowerPower, Smarteeth,\\n2020-2021 54 10 SmartKettle, SmartTV ,\\nWindWow\\nSeraSmart, SmartOven,\\n2021-2022 56 8 Soundsystem,\\nVacuumCleaner\\nable to include the same number of apps in the set in the\\nsecond year. The final app set was made publicly available\\non GitHub1. It consists of 10 mock IoT apps, a hub app that\\nconnects to one or more apps depending on user configuration,\\nand setup instructions for local and dockerized use.\\nBecause of the opportunity to incorporate this project into\\na personal professional portfolio, some of the teams also\\ncontributed features to their projects that were outside the\\nscope of the planned development. For example, one team\\ndeveloped an advanced graphical interface, and some teams\\nchose to also deploy their app appropriate hardware device.\\nOn the one hand, this initiative demonstrates the variety of\\nproject goals that can be set in a course on IoT. On the other\\nhand, it may point to the need to better define the field of\\nIoT and determine the core learning objectives and appropriate\\ncompetencies for this area of knowledge.\\nFig. 1. The distribution of the 2021-2022 projects grades highlighting (with\\norange) the projects that were included as part of the final application set. The\\nresult also outlines that there is room for improving and growing the number\\nof viable candidate applications.\\nIV. D ISCUSSION\\nThe expectations of the experiment were that students would\\ngain a better practical understanding of SE practices and\\ngain insight into a topic not yet adequately covered in the\\nundergraduate curriculum. One of the expected externalities\\nof the courses was that the student projects would eventually\\nhelp create an open-source app that would have real-life apps\\n- initially in academia and, after further enhancements, in\\nindustry.\\n1https://github.com/unibuc-cs/IoT-application-setA. Technical challenge\\nSince we work with devices that have low computational\\npower, we realised as an immediate consequence that the\\nsoftware developed should be focused on using the most\\nefficient programming languages available. Our decision for', metadata={'source': None, 'page': 3, 'is_endmatter': False, 'title': 'notknown', 'full-title': 'notknown - p3', 'sha256': 'cce15ff3299d2b5f2062546fdfea6eece239e4449fd74e9e28ca4eaadf041317', 'ignore': False}), 0.9353013), (Document(page_content='help create an open-source app that would have real-life apps\\n- initially in academia and, after further enhancements, in\\nindustry.\\n1https://github.com/unibuc-cs/IoT-application-setA. Technical challenge\\nSince we work with devices that have low computational\\npower, we realised as an immediate consequence that the\\nsoftware developed should be focused on using the most\\nefficient programming languages available. Our decision for\\nthe 2020 course was that all IoT projects must be built in\\nC/C++. The success of this decision was rather mixed.\\n1) The use of C/C++ allowed students to explore the\\nlanguages further. They already had introductory courses\\nthat focused on this language, but given the require-\\nments of the IoT project, a greater focus on multi-\\nthreading, dependency management, communication in-\\nterfaces, etc.was needed.\\n2) C/C++ is considered a more difficult language to manage\\nprecisely because it allows flexibility such as memory\\nmanagement.\\n3) While C/C++ would be a better choice for introductory\\ncourses [15], higher level languages are generally pre-\\nferred in this context because they can provide function-\\nality faster.\\nB. Integration\\nOne challenge in building open source software is to agree\\non similar software design principles. Our approach to this\\nchallenge was to encapsulate the device functionality. The apps\\nwere treated as gray-box software to minimize both current\\nand future app customization needs and to ensure integration\\nwith the app set. Minimal to no changes were made to the\\nsource code of the app that was delivered as part of the project.\\nThe focus of our integration efforts was on the interface\\nbetween the apps. The use of a custom JSON interface and\\nlater OpenAPI and AsyncAPI proved successful and warranted\\nminimal code adjustments to the API definitions. 18 apps were\\ndeclared valid in the sense that they satisfied almost completely\\nthe inclusion requirements, out of which 10 were integrated\\nand tested withing the final set. 10 apps were selected to be\\nincluded in the open-source app set in order to allow gradual\\nintroduction of further complexity.\\nC. Open Source Project\\nIn [16], it was observed that aligning students’ work with', metadata={'source': None, 'page': 3, 'is_endmatter': False, 'title': 'notknown', 'full-title': 'notknown - p3', 'sha256': 'cce15ff3299d2b5f2062546fdfea6eece239e4449fd74e9e28ca4eaadf041317', 'ignore': False}), 0.9702843)]\n",
      "\u001B[32;1m\u001B[1;3m[chain/start]\u001B[0m \u001B[1m[1:chain:StuffDocumentsChain] Entering Chain run with input:\n",
      "\u001B[0m[inputs]\n",
      "\u001B[32;1m\u001B[1;3m[chain/start]\u001B[0m \u001B[1m[1:chain:StuffDocumentsChain > 2:chain:LLMChain] Entering Chain run with input:\n",
      "\u001B[0m{\n",
      "  \"question\": \"What Smart IOT applications are developed by Rares, Alin, and Ciprian Paduraru?\",\n",
      "  \"context\": \"Content: helps users track information about the health of their mouth\\nand use appropriate toothbrushing programs.\\n(4)SmartKettle - An smart kettle Application that speeds up and\\nautomates the preparation of drinks.\\n(5)SmartTV - An smart TV application where users can have\\nindividual profiles and, based on their behavior, a recommen-\\ndation system is used to recommend movies or TV shows.\\n1The repository containing the applications and the Hub can be accesed at this link\\nhttps://github.com/unibuc-cs/IoT-application-set.\\nSource: None\\n\\nContent: TABLE I\\nAPPLICATION SETDEVELOPMENT YEARS\\nApplication Set\\nYears No. of projects Valid apps Selected apps\\nFlowerPower, Smarteeth,\\n2020-2021 54 10 SmartKettle, SmartTV ,\\nWindWow\\nSeraSmart, SmartOven,\\n2021-2022 56 8 Soundsystem,\\nVacuumCleaner\\nable to include the same number of apps in the set in the\\nsecond year. The final app set was made publicly available\\non GitHub1. It consists of 10 mock IoT apps, a hub app that\\nconnects to one or more apps depending on user configuration,\\nand setup instructions for local and dockerized use.\\nBecause of the opportunity to incorporate this project into\\na personal professional portfolio, some of the teams also\\ncontributed features to their projects that were outside the\\nscope of the planned development. For example, one team\\ndeveloped an advanced graphical interface, and some teams\\nchose to also deploy their app appropriate hardware device.\\nOn the one hand, this initiative demonstrates the variety of\\nproject goals that can be set in a course on IoT. On the other\\nhand, it may point to the need to better define the field of\\nIoT and determine the core learning objectives and appropriate\\ncompetencies for this area of knowledge.\\nFig. 1. The distribution of the 2021-2022 projects grades highlighting (with\\norange) the projects that were included as part of the final application set. The\\nresult also outlines that there is room for improving and growing the number\\nof viable candidate applications.\\nIV. D ISCUSSION\\nThe expectations of the experiment were that students would\\ngain a better practical understanding of SE practices and\\ngain insight into a topic not yet adequately covered in the\\nundergraduate curriculum. One of the expected externalities\\nof the courses was that the student projects would eventually\\nhelp create an open-source app that would have real-life apps\\n- initially in academia and, after further enhancements, in\\nindustry.\\n1https://github.com/unibuc-cs/IoT-application-setA. Technical challenge\\nSince we work with devices that have low computational\\npower, we realised as an immediate consequence that the\\nsoftware developed should be focused on using the most\\nefficient programming languages available. Our decision for\\nSource: None\\n\\nContent: help create an open-source app that would have real-life apps\\n- initially in academia and, after further enhancements, in\\nindustry.\\n1https://github.com/unibuc-cs/IoT-application-setA. Technical challenge\\nSince we work with devices that have low computational\\npower, we realised as an immediate consequence that the\\nsoftware developed should be focused on using the most\\nefficient programming languages available. Our decision for\\nthe 2020 course was that all IoT projects must be built in\\nC/C++. The success of this decision was rather mixed.\\n1) The use of C/C++ allowed students to explore the\\nlanguages further. They already had introductory courses\\nthat focused on this language, but given the require-\\nments of the IoT project, a greater focus on multi-\\nthreading, dependency management, communication in-\\nterfaces, etc.was needed.\\n2) C/C++ is considered a more difficult language to manage\\nprecisely because it allows flexibility such as memory\\nmanagement.\\n3) While C/C++ would be a better choice for introductory\\ncourses [15], higher level languages are generally pre-\\nferred in this context because they can provide function-\\nality faster.\\nB. Integration\\nOne challenge in building open source software is to agree\\non similar software design principles. Our approach to this\\nchallenge was to encapsulate the device functionality. The apps\\nwere treated as gray-box software to minimize both current\\nand future app customization needs and to ensure integration\\nwith the app set. Minimal to no changes were made to the\\nsource code of the app that was delivered as part of the project.\\nThe focus of our integration efforts was on the interface\\nbetween the apps. The use of a custom JSON interface and\\nlater OpenAPI and AsyncAPI proved successful and warranted\\nminimal code adjustments to the API definitions. 18 apps were\\ndeclared valid in the sense that they satisfied almost completely\\nthe inclusion requirements, out of which 10 were integrated\\nand tested withing the final set. 10 apps were selected to be\\nincluded in the open-source app set in order to allow gradual\\nintroduction of further complexity.\\nC. Open Source Project\\nIn [16], it was observed that aligning students’ work with\\nSource: None\"\n",
      "}\n",
      "\u001B[32;1m\u001B[1;3m[llm/start]\u001B[0m \u001B[1m[1:chain:StuffDocumentsChain > 2:chain:LLMChain > 3:llm:HuggingFacePipeline] Entering LLM run with input:\n",
      "\u001B[0m{\n",
      "  \"prompts\": [\n",
      "    \"[INST]<<SYS>>\\n                \\\"\\\"Consider that I'm a beginner in networking and security things. \\n\\n                Give me a concise answer with with a single step at a time. \\n\\n                Limit your response to maximum 2000 words.\\n                Do not provide any additional text or presentation. Only steps and actions.\\n                If possible use concrete names of software or tools that could help on each step.\\n<</SYS>>\\n\\n                Use the following pieces of context to answer the question. If no context provided, answer like a AI assistant.\\n                Content: helps users track information about the health of their mouth\\nand use appropriate toothbrushing programs.\\n(4)SmartKettle - An smart kettle Application that speeds up and\\nautomates the preparation of drinks.\\n(5)SmartTV - An smart TV application where users can have\\nindividual profiles and, based on their behavior, a recommen-\\ndation system is used to recommend movies or TV shows.\\n1The repository containing the applications and the Hub can be accesed at this link\\nhttps://github.com/unibuc-cs/IoT-application-set.\\nSource: None\\n\\nContent: TABLE I\\nAPPLICATION SETDEVELOPMENT YEARS\\nApplication Set\\nYears No. of projects Valid apps Selected apps\\nFlowerPower, Smarteeth,\\n2020-2021 54 10 SmartKettle, SmartTV ,\\nWindWow\\nSeraSmart, SmartOven,\\n2021-2022 56 8 Soundsystem,\\nVacuumCleaner\\nable to include the same number of apps in the set in the\\nsecond year. The final app set was made publicly available\\non GitHub1. It consists of 10 mock IoT apps, a hub app that\\nconnects to one or more apps depending on user configuration,\\nand setup instructions for local and dockerized use.\\nBecause of the opportunity to incorporate this project into\\na personal professional portfolio, some of the teams also\\ncontributed features to their projects that were outside the\\nscope of the planned development. For example, one team\\ndeveloped an advanced graphical interface, and some teams\\nchose to also deploy their app appropriate hardware device.\\nOn the one hand, this initiative demonstrates the variety of\\nproject goals that can be set in a course on IoT. On the other\\nhand, it may point to the need to better define the field of\\nIoT and determine the core learning objectives and appropriate\\ncompetencies for this area of knowledge.\\nFig. 1. The distribution of the 2021-2022 projects grades highlighting (with\\norange) the projects that were included as part of the final application set. The\\nresult also outlines that there is room for improving and growing the number\\nof viable candidate applications.\\nIV. D ISCUSSION\\nThe expectations of the experiment were that students would\\ngain a better practical understanding of SE practices and\\ngain insight into a topic not yet adequately covered in the\\nundergraduate curriculum. One of the expected externalities\\nof the courses was that the student projects would eventually\\nhelp create an open-source app that would have real-life apps\\n- initially in academia and, after further enhancements, in\\nindustry.\\n1https://github.com/unibuc-cs/IoT-application-setA. Technical challenge\\nSince we work with devices that have low computational\\npower, we realised as an immediate consequence that the\\nsoftware developed should be focused on using the most\\nefficient programming languages available. Our decision for\\nSource: None\\n\\nContent: help create an open-source app that would have real-life apps\\n- initially in academia and, after further enhancements, in\\nindustry.\\n1https://github.com/unibuc-cs/IoT-application-setA. Technical challenge\\nSince we work with devices that have low computational\\npower, we realised as an immediate consequence that the\\nsoftware developed should be focused on using the most\\nefficient programming languages available. Our decision for\\nthe 2020 course was that all IoT projects must be built in\\nC/C++. The success of this decision was rather mixed.\\n1) The use of C/C++ allowed students to explore the\\nlanguages further. They already had introductory courses\\nthat focused on this language, but given the require-\\nments of the IoT project, a greater focus on multi-\\nthreading, dependency management, communication in-\\nterfaces, etc.was needed.\\n2) C/C++ is considered a more difficult language to manage\\nprecisely because it allows flexibility such as memory\\nmanagement.\\n3) While C/C++ would be a better choice for introductory\\ncourses [15], higher level languages are generally pre-\\nferred in this context because they can provide function-\\nality faster.\\nB. Integration\\nOne challenge in building open source software is to agree\\non similar software design principles. Our approach to this\\nchallenge was to encapsulate the device functionality. The apps\\nwere treated as gray-box software to minimize both current\\nand future app customization needs and to ensure integration\\nwith the app set. Minimal to no changes were made to the\\nsource code of the app that was delivered as part of the project.\\nThe focus of our integration efforts was on the interface\\nbetween the apps. The use of a custom JSON interface and\\nlater OpenAPI and AsyncAPI proved successful and warranted\\nminimal code adjustments to the API definitions. 18 apps were\\ndeclared valid in the sense that they satisfied almost completely\\nthe inclusion requirements, out of which 10 were integrated\\nand tested withing the final set. 10 apps were selected to be\\nincluded in the open-source app set in order to allow gradual\\nintroduction of further complexity.\\nC. Open Source Project\\nIn [16], it was observed that aligning students’ work with\\nSource: None\\n                Question: What Smart IOT applications are developed by Rares, Alin, and Ciprian Paduraru?[/INST]\"\n",
      "  ]\n",
      "}\n",
      " Based on the information provided in the content, the following Smart IOT applications were developed by Rares, Alin, and Ciprian Paduraru:\n",
      "1. SmartKettle: An application that speeds up and automates the preparation of drinks.\n",
      "2. SmartTV: An application where users can have individual profiles and a recommendation system is used to recommend movies or TV shows.\n",
      "3. WindWow: An application that allows users to control their smart home devices remotely.\n",
      "4. SeraSmart: An application that helps users track information about the health of their mouth and use appropriate toothbrushing programs.\n",
      "5. SmartOven: An application that allows users to control their oven remotely and receive notifications when their food is ready.\n",
      "These applications were developed as part of a course project and were included in a publicly available open-source app set on GitHub.</s>\n",
      "\u001B[36;1m\u001B[1;3m[llm/end]\u001B[0m \u001B[1m[1:chain:StuffDocumentsChain > 2:chain:LLMChain > 3:llm:HuggingFacePipeline] [5.64s] Exiting LLM run with output:\n",
      "\u001B[0m{\n",
      "  \"generations\": [\n",
      "    [\n",
      "      {\n",
      "        \"text\": \"  Based on the information provided in the content, the following Smart IOT applications were developed by Rares, Alin, and Ciprian Paduraru:\\n\\n1. SmartKettle: An application that speeds up and automates the preparation of drinks.\\n2. SmartTV: An application where users can have individual profiles and a recommendation system is used to recommend movies or TV shows.\\n3. WindWow: An application that allows users to control their smart home devices remotely.\\n4. SeraSmart: An application that helps users track information about the health of their mouth and use appropriate toothbrushing programs.\\n5. SmartOven: An application that allows users to control their oven remotely and receive notifications when their food is ready.\\n\\nThese applications were developed as part of a course project and were included in a publicly available open-source app set on GitHub.\",\n",
      "        \"generation_info\": null,\n",
      "        \"type\": \"Generation\"\n",
      "      }\n",
      "    ]\n",
      "  ],\n",
      "  \"llm_output\": null,\n",
      "  \"run\": null\n",
      "}\n",
      "\u001B[36;1m\u001B[1;3m[chain/end]\u001B[0m \u001B[1m[1:chain:StuffDocumentsChain > 2:chain:LLMChain] [5.64s] Exiting Chain run with output:\n",
      "\u001B[0m{\n",
      "  \"text\": \"  Based on the information provided in the content, the following Smart IOT applications were developed by Rares, Alin, and Ciprian Paduraru:\\n\\n1. SmartKettle: An application that speeds up and automates the preparation of drinks.\\n2. SmartTV: An application where users can have individual profiles and a recommendation system is used to recommend movies or TV shows.\\n3. WindWow: An application that allows users to control their smart home devices remotely.\\n4. SeraSmart: An application that helps users track information about the health of their mouth and use appropriate toothbrushing programs.\\n5. SmartOven: An application that allows users to control their oven remotely and receive notifications when their food is ready.\\n\\nThese applications were developed as part of a course project and were included in a publicly available open-source app set on GitHub.\"\n",
      "}\n",
      "\u001B[36;1m\u001B[1;3m[chain/end]\u001B[0m \u001B[1m[1:chain:StuffDocumentsChain] [5.64s] Exiting Chain run with output:\n",
      "\u001B[0m{\n",
      "  \"output_text\": \"  Based on the information provided in the content, the following Smart IOT applications were developed by Rares, Alin, and Ciprian Paduraru:\\n\\n1. SmartKettle: An application that speeds up and automates the preparation of drinks.\\n2. SmartTV: An application where users can have individual profiles and a recommendation system is used to recommend movies or TV shows.\\n3. WindWow: An application that allows users to control their smart home devices remotely.\\n4. SeraSmart: An application that helps users track information about the health of their mouth and use appropriate toothbrushing programs.\\n5. SmartOven: An application that allows users to control their oven remotely and receive notifications when their food is ready.\\n\\nThese applications were developed as part of a course project and were included in a publicly available open-source app set on GitHub.\"\n",
      "}\n",
      "  Based on the information provided in the content, the following Smart IOT applications were developed by Rares, Alin, and Ciprian Paduraru:\n",
      "\n",
      "1. SmartKettle: An application that speeds up and automates the preparation of drinks.\n",
      "2. SmartTV: An application where users can have individual profiles and a recommendation system is used to recommend movies or TV shows.\n",
      "3. WindWow: An application that allows users to control their smart home devices remotely.\n",
      "4. SeraSmart: An application that helps users track information about the health of their mouth and use appropriate toothbrushing programs.\n",
      "5. SmartOven: An application that allows users to control their oven remotely and receive notifications when their food is ready.\n",
      "\n",
      "These applications were developed as part of a course project and were included in a publicly available open-source app set on GitHub.\n"
     ]
    }
   ],
   "source": [
    "securityChatbot.simulate_raq_question(\"What Smart IOT applications are developed by Rares, Alin, and Ciprian Paduraru?\", run_llm_chain=True)"
   ],
   "metadata": {
    "collapsed": false,
    "ExecuteTime": {
     "end_time": "2024-01-12T13:35:18.154663900Z",
     "start_time": "2024-01-12T13:35:12.441660800Z"
    }
   },
   "id": "4a550425f1f79efa",
   "execution_count": 7
  },
  {
   "cell_type": "code",
   "outputs": [],
   "source": [
    "start=time.time()\n",
    "securityChatbot.ask_question(\"Give me some indications to solve a denial of service attack.\")\n",
    "securityChatbot.ask_question(\"Give me a few tools for this please\")\n",
    "securityChatbot.ask_question(\"Which one works best on Windows machines?\")\n",
    "\n",
    "\n",
    "end=time.time()\n",
    "\n",
    "print(f\"Total time: {end-start}\")"
   ],
   "metadata": {
    "collapsed": false
   },
   "id": "6bea34d07bfde326"
  }
 ],
 "metadata": {
  "kernelspec": {
   "display_name": "Python 3 (ipykernel)",
   "language": "python",
   "name": "python3"
  },
  "language_info": {
   "codemirror_mode": {
    "name": "ipython",
    "version": 3
   },
   "file_extension": ".py",
   "mimetype": "text/x-python",
   "name": "python",
   "nbconvert_exporter": "python",
   "pygments_lexer": "ipython3",
   "version": "3.11.5"
  }
 },
 "nbformat": 4,
 "nbformat_minor": 5
}
