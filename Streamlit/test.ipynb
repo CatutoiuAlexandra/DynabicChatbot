{
 "cells": [
  {
   "cell_type": "code",
   "execution_count": 1,
   "id": "initial_id",
   "metadata": {
    "collapsed": true,
    "ExecuteTime": {
     "end_time": "2023-12-27T20:19:16.277172300Z",
     "start_time": "2023-12-27T20:19:13.981919400Z"
    }
   },
   "outputs": [],
   "source": [
    "import pandas as pd\n"
   ]
  },
  {
   "cell_type": "code",
   "execution_count": 2,
   "outputs": [],
   "source": [
    "df = pd.DataFrame({c: pd.Series(dtype=t) for c, t in \n",
    "                   {'name' : 'str',\n",
    "                    'username' : 'str',\n",
    "                    'password' : 'str',\n",
    "                    'expertise': 'int', \n",
    "                    'preference': 'int', \n",
    "                    'politely': 'int', \n",
    "                    'emojis': 'int', \n",
    "                    'motivation_factor' : 'float',\n",
    "                    'can_be_tricked_out_factor' : 'float',\n",
    "                    'intentional_damage_factor' : 'float',\n",
    "                    'correct_teamwork' : 'float'\n",
    "                    }.items()})\n",
    "\n",
    "\n",
    "        "
   ],
   "metadata": {
    "collapsed": false,
    "ExecuteTime": {
     "end_time": "2023-12-27T20:19:16.296968700Z",
     "start_time": "2023-12-27T20:19:16.278260800Z"
    }
   },
   "id": "2bc094e2eba39934"
  },
  {
   "cell_type": "code",
   "execution_count": 3,
   "outputs": [
    {
     "name": "stdout",
     "output_type": "stream",
     "text": [
      "Empty DataFrame\n",
      "Columns: [name, username, password, expertise, preference, politely, emojis, motivation_factor, can_be_tricked_out_factor, intentional_damage_factor, correct_teamwork]\n",
      "Index: []\n"
     ]
    }
   ],
   "source": [
    "print(df)"
   ],
   "metadata": {
    "collapsed": false,
    "ExecuteTime": {
     "end_time": "2023-12-27T20:19:30.132979100Z",
     "start_time": "2023-12-27T20:19:30.101411100Z"
    }
   },
   "id": "caeae83424e282dc"
  },
  {
   "cell_type": "code",
   "execution_count": 4,
   "outputs": [
    {
     "name": "stdout",
     "output_type": "stream",
     "text": [
      "loggedin <class 'bool'>\n",
      "name <class 'str'>\n",
      "username <class 'str'>\n",
      "password <class 'str'>\n",
      "expertise <enum 'SecurityOfficerExpertise'>\n",
      "preference <enum 'Preference_ResponseType'>\n",
      "politely <enum 'Preference_Politely'>\n",
      "emojis <enum 'Preference_Emojis'>\n",
      "motivation_factor <class 'float'>\n",
      "can_be_tricked_out_factor <class 'float'>\n",
      "intentional_damage_factor <class 'float'>\n",
      "correct_teamwork <class 'float'>\n"
     ]
    }
   ],
   "source": [
    "from userUtils import SecurityOfficer\n",
    "\n",
    "a = SecurityOfficer()\n",
    "for name, value in a.__dict__.items():\n",
    " print(name, type(value))\n"
   ],
   "metadata": {
    "collapsed": false,
    "ExecuteTime": {
     "end_time": "2023-12-27T20:19:34.807118800Z",
     "start_time": "2023-12-27T20:19:34.742668800Z"
    }
   },
   "id": "b2ca8163c0f67992"
  },
  {
   "cell_type": "code",
   "execution_count": null,
   "outputs": [],
   "source": [
    "\n",
    "df = pd.DataFrame({c: pd.Series(dtype=t) for c, t in\n",
    "                   {'name': 'str',\n",
    "                    'username': 'str',\n",
    "                    'password': 'str',\n",
    "                    'expertise': 'int',\n",
    "                    'preference': 'int',\n",
    "                    'politely': 'int',\n",
    "                    'emojis': 'int',\n",
    "                    'motivation_factor': 'float',\n",
    "                    'can_be_tricked_out_factor': 'float',\n",
    "                    'intentional_damage_factor': 'float',\n",
    "                    'correct_teamwork': 'float'\n",
    "                    }.items()})"
   ],
   "metadata": {
    "collapsed": false
   },
   "id": "38ff8ad8512f71f0"
  }
 ],
 "metadata": {
  "kernelspec": {
   "display_name": "Python 3",
   "language": "python",
   "name": "python3"
  },
  "language_info": {
   "codemirror_mode": {
    "name": "ipython",
    "version": 2
   },
   "file_extension": ".py",
   "mimetype": "text/x-python",
   "name": "python",
   "nbconvert_exporter": "python",
   "pygments_lexer": "ipython2",
   "version": "2.7.6"
  }
 },
 "nbformat": 4,
 "nbformat_minor": 5
}
