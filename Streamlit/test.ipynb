{
 "cells": [
  {
   "cell_type": "code",
   "execution_count": 1,
   "outputs": [],
   "source": [
    "from userUtils import SecurityOfficer\n",
    "import userUtils\n",
    "import pandas as pd\n",
    "from databaseUtils import *\n",
    "from typing import Union\n"
   ],
   "metadata": {
    "collapsed": false,
    "ExecuteTime": {
     "end_time": "2023-12-29T08:12:36.123437200Z",
     "start_time": "2023-12-29T08:12:35.721619400Z"
    }
   },
   "id": "b2ca8163c0f67992"
  },
  {
   "cell_type": "code",
   "outputs": [
    {
     "data": {
      "text/plain": "True"
     },
     "execution_count": 2,
     "metadata": {},
     "output_type": "execute_result"
    }
   ],
   "source": [
    "# Create sample\n",
    "cdb = CredentialsDB()\n",
    "cdb.create_credentials_dataset()"
   ],
   "metadata": {
    "collapsed": false,
    "ExecuteTime": {
     "end_time": "2023-12-29T08:12:36.131926100Z",
     "start_time": "2023-12-29T08:12:36.124439Z"
    }
   },
   "id": "ff0d1b12c224d7f5",
   "execution_count": 2
  },
  {
   "cell_type": "markdown",
   "source": [],
   "metadata": {
    "collapsed": false
   },
   "id": "d080af50625f2ba"
  },
  {
   "cell_type": "code",
   "outputs": [],
   "source": [
    "# Clear save sample\n",
    "cdb.clear_credentials_dataset()\n",
    "cdb.save_credentials_dataset('data/credentials.csv')"
   ],
   "metadata": {
    "collapsed": false,
    "ExecuteTime": {
     "end_time": "2023-12-29T08:12:36.140746200Z",
     "start_time": "2023-12-29T08:12:36.131926100Z"
    }
   },
   "id": "51fae84595cd4659",
   "execution_count": 3
  },
  {
   "cell_type": "code",
   "outputs": [
    {
     "name": "stdout",
     "output_type": "stream",
     "text": [
      "Empty DataFrame\n",
      "Columns: [name, username, password, birthday, expertise, preference, politely, emojis, motivation_factor, can_be_tricked_out_factor, intentional_damage_factor, correct_teamwork]\n",
      "Index: []\n"
     ]
    }
   ],
   "source": [
    "# Load sample\n",
    "cdb.load_credentials_dataset()\n",
    "\n",
    "import pdb\n",
    "#pdb.set_trace()\n",
    "print(cdb)"
   ],
   "metadata": {
    "collapsed": false,
    "ExecuteTime": {
     "end_time": "2023-12-29T08:12:36.152455800Z",
     "start_time": "2023-12-29T08:12:36.141746400Z"
    }
   },
   "id": "287f6f653285d350",
   "execution_count": 4
  },
  {
   "cell_type": "code",
   "outputs": [],
   "source": [],
   "metadata": {
    "collapsed": false,
    "ExecuteTime": {
     "end_time": "2023-12-29T08:12:36.152455800Z",
     "start_time": "2023-12-29T08:12:36.149947100Z"
    }
   },
   "id": "22711d7d5771c745",
   "execution_count": 4
  },
  {
   "cell_type": "code",
   "outputs": [
    {
     "name": "stdout",
     "output_type": "stream",
     "text": [
      "  name username password                   birthday  \\\n",
      "0          alin          2023-12-29 10:12:36.152455   \n",
      "1       ciprian          2023-12-29 10:12:36.153457   \n",
      "\n",
      "                           expertise                        preference  \\\n",
      "0  SecurityOfficerExpertise.BEGINNER  Preference_ResponseType.DETAILED   \n",
      "1  SecurityOfficerExpertise.ADVANCED  Preference_ResponseType.DETAILED   \n",
      "\n",
      "                                  politely                        emojis  \\\n",
      "0  Preference_Politely.POLITE_PRESENTATION  Preference_Emojis.USE_EMOJIS   \n",
      "1  Preference_Politely.POLITE_PRESENTATION  Preference_Emojis.USE_EMOJIS   \n",
      "\n",
      "   motivation_factor  can_be_tricked_out_factor  intentional_damage_factor  \\\n",
      "0                1.0                        0.0                        0.0   \n",
      "1                1.0                        0.0                        0.0   \n",
      "\n",
      "   correct_teamwork  \n",
      "0               1.0  \n",
      "1               1.0  \n"
     ]
    }
   ],
   "source": [
    "# insert sample\n",
    "from typing import Union\n",
    "\n",
    "a = SecurityOfficer()\n",
    "a.username = \"alin\"\n",
    "cdb.insertNewUser(a)\n",
    "\n",
    "b = SecurityOfficer()\n",
    "b.username = \"ciprian\"\n",
    "b.expertise = userUtils.SecurityOfficerExpertise.ADVANCED\n",
    "cdb.insertNewUser(b)\n",
    "\n",
    "print(cdb)\n",
    "\n",
    "# import datetime\n",
    "# \n",
    "# data = {'name':'Ciprian Paduraru', \n",
    "#         'username' : 'paduraru2009',\n",
    "#         'password' : 'Arbori2009',\n",
    "#         'birthday' : datetime.datetime(1986, 9, 3),\n",
    "#         'expertise':2, \n",
    "#         'preference':1, \n",
    "#         'politely':2, \n",
    "#         'emojis':1, \n",
    "#         'motivation_factor':0.2, \n",
    "#         'can_be_tricked_out_factor':0.0, \n",
    "#         'intentional_damage_factor':0.5, \n",
    "#         'correct_teamwork':0.5}\n",
    "# \n",
    "# \n",
    "# \n",
    "# df.loc[len(df.index)] = data\n",
    "# \n",
    "# save_credentials_dataset(df, 'data/credentials.csv')"
   ],
   "metadata": {
    "collapsed": false,
    "ExecuteTime": {
     "end_time": "2023-12-29T08:12:36.176923100Z",
     "start_time": "2023-12-29T08:12:36.152455800Z"
    }
   },
   "id": "f8e5aadd5dad1340",
   "execution_count": 5
  },
  {
   "cell_type": "code",
   "outputs": [
    {
     "name": "stdout",
     "output_type": "stream",
     "text": [
      "  name username password                   birthday  \\\n",
      "0          alin          2023-12-29 10:12:36.152455   \n",
      "1       ciprian          2023-12-29 10:12:36.153457   \n",
      "\n",
      "                           expertise                        preference  \\\n",
      "0  SecurityOfficerExpertise.BEGINNER  Preference_ResponseType.DETAILED   \n",
      "1  SecurityOfficerExpertise.ADVANCED  Preference_ResponseType.DETAILED   \n",
      "\n",
      "                                  politely                        emojis  \\\n",
      "0  Preference_Politely.POLITE_PRESENTATION  Preference_Emojis.USE_EMOJIS   \n",
      "1  Preference_Politely.POLITE_PRESENTATION  Preference_Emojis.USE_EMOJIS   \n",
      "\n",
      "   motivation_factor  can_be_tricked_out_factor  intentional_damage_factor  \\\n",
      "0                1.0                        0.0                        0.0   \n",
      "1                1.0                        0.0                        0.0   \n",
      "\n",
      "   correct_teamwork  \n",
      "0               1.0  \n",
      "1               1.0  \n"
     ]
    }
   ],
   "source": [
    "# Print sample\n",
    "print(cdb)\n"
   ],
   "metadata": {
    "collapsed": false,
    "ExecuteTime": {
     "end_time": "2023-12-29T08:12:36.176923100Z",
     "start_time": "2023-12-29T08:12:36.159836700Z"
    }
   },
   "id": "9120ed98d4cbf4f",
   "execution_count": 6
  },
  {
   "cell_type": "code",
   "outputs": [
    {
     "ename": "TypeError",
     "evalue": "unsupported operand type(s) for +: 'NoneType' and 'str'",
     "output_type": "error",
     "traceback": [
      "\u001B[1;31m---------------------------------------------------------------------------\u001B[0m",
      "\u001B[1;31mTypeError\u001B[0m                                 Traceback (most recent call last)",
      "Cell \u001B[1;32mIn[9], line 1\u001B[0m\n\u001B[1;32m----> 1\u001B[0m \u001B[38;5;28mprint\u001B[39m(cdb\u001B[38;5;241m.\u001B[39mgetUserById(\u001B[38;5;124m\"\u001B[39m\u001B[38;5;124mpaduraru2009\u001B[39m\u001B[38;5;124m\"\u001B[39m)\u001B[38;5;241m+\u001B[39m\u001B[38;5;124m\"\u001B[39m\u001B[38;5;130;01m\\n\u001B[39;00m\u001B[38;5;124m\"\u001B[39m)\n\u001B[0;32m      2\u001B[0m \u001B[38;5;28mprint\u001B[39m(cdb\u001B[38;5;241m.\u001B[39mgetUserById(\u001B[38;5;124m\"\u001B[39m\u001B[38;5;124malin\u001B[39m\u001B[38;5;124m\"\u001B[39m))\n\u001B[0;32m      3\u001B[0m \u001B[38;5;28mprint\u001B[39m(cdb\u001B[38;5;241m.\u001B[39mgetUserById(\u001B[38;5;124m\"\u001B[39m\u001B[38;5;124mciprian\u001B[39m\u001B[38;5;124m\"\u001B[39m))\n",
      "\u001B[1;31mTypeError\u001B[0m: unsupported operand type(s) for +: 'NoneType' and 'str'"
     ]
    }
   ],
   "source": [
    "                \n",
    "print(cdb.getUserById(\"paduraru2009\"))\n",
    "print(cdb.getUserById(\"alin\"))\n",
    "print(cdb.getUserById(\"ciprian\"))"
   ],
   "metadata": {
    "collapsed": false,
    "ExecuteTime": {
     "end_time": "2023-12-29T08:16:36.533399500Z",
     "start_time": "2023-12-29T08:16:36.153621300Z"
    }
   },
   "id": "7bebd65affd14afa",
   "execution_count": 9
  },
  {
   "cell_type": "code",
   "execution_count": 7,
   "outputs": [],
   "source": [],
   "metadata": {
    "collapsed": false,
    "ExecuteTime": {
     "end_time": "2023-12-29T08:12:36.177927700Z",
     "start_time": "2023-12-29T08:12:36.168824700Z"
    }
   },
   "id": "b64e6f3d3c19c72f"
  }
 ],
 "metadata": {
  "kernelspec": {
   "display_name": "Python 3",
   "language": "python",
   "name": "python3"
  },
  "language_info": {
   "codemirror_mode": {
    "name": "ipython",
    "version": 2
   },
   "file_extension": ".py",
   "mimetype": "text/x-python",
   "name": "python",
   "nbconvert_exporter": "python",
   "pygments_lexer": "ipython2",
   "version": "2.7.6"
  }
 },
 "nbformat": 4,
 "nbformat_minor": 5
}
