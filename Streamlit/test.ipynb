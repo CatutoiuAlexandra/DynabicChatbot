{
 "cells": [
  {
   "cell_type": "code",
   "execution_count": 1,
   "outputs": [
    {
     "data": {
      "text/plain": "'\\na = SecurityOfficer()\\nfor name, value in a.__dict__.items():\\n print(name, type(value))\\n'"
     },
     "execution_count": 1,
     "metadata": {},
     "output_type": "execute_result"
    }
   ],
   "source": [
    "from userUtils import SecurityOfficer\n",
    "import pandas as pd\n",
    "from databaseUtils import *\n",
    "\n",
    "\"\"\"\n",
    "a = SecurityOfficer()\n",
    "for name, value in a.__dict__.items():\n",
    " print(name, type(value))\n",
    "\"\"\""
   ],
   "metadata": {
    "collapsed": false,
    "ExecuteTime": {
     "end_time": "2023-12-28T14:25:17.417040400Z",
     "start_time": "2023-12-28T14:25:17.016244600Z"
    }
   },
   "id": "b2ca8163c0f67992"
  },
  {
   "cell_type": "code",
   "outputs": [],
   "source": [
    "# Create sample\n",
    "df = create_credentials_dataset()"
   ],
   "metadata": {
    "collapsed": false,
    "ExecuteTime": {
     "end_time": "2023-12-28T14:25:18.823324100Z",
     "start_time": "2023-12-28T14:25:18.793102300Z"
    }
   },
   "id": "ff0d1b12c224d7f5",
   "execution_count": 2
  },
  {
   "cell_type": "markdown",
   "source": [],
   "metadata": {
    "collapsed": false
   },
   "id": "d080af50625f2ba"
  },
  {
   "cell_type": "code",
   "outputs": [],
   "source": [
    "# Clear sample\n",
    "df = clear_credentials_dataset(df)\n",
    "save_credentials_dataset(df, 'data/credentials.csv')"
   ],
   "metadata": {
    "collapsed": false,
    "ExecuteTime": {
     "end_time": "2023-12-28T14:25:22.583136900Z",
     "start_time": "2023-12-28T14:25:22.570852300Z"
    }
   },
   "id": "51fae84595cd4659",
   "execution_count": 3
  },
  {
   "cell_type": "code",
   "outputs": [
    {
     "name": "stdout",
     "output_type": "stream",
     "text": [
      "Empty DataFrame\n",
      "Columns: [name, username, password, birthday, expertise, preference, politely, emojis, motivation_factor, can_be_tricked_out_factor, intentional_damage_factor, correct_teamwork]\n",
      "Index: []\n"
     ]
    }
   ],
   "source": [
    "# Load sample\n",
    "df = pd.read_csv(\"data/credentials.csv\")\n",
    "print(df)"
   ],
   "metadata": {
    "collapsed": false,
    "ExecuteTime": {
     "end_time": "2023-12-28T14:25:26.642268Z",
     "start_time": "2023-12-28T14:25:26.618691700Z"
    }
   },
   "id": "287f6f653285d350",
   "execution_count": 4
  },
  {
   "cell_type": "code",
   "outputs": [],
   "source": [],
   "metadata": {
    "collapsed": false
   },
   "id": "22711d7d5771c745"
  },
  {
   "cell_type": "code",
   "outputs": [],
   "source": [
    "# insert sample\n",
    "import datetime\n",
    "\n",
    "data = {'name':'Ciprian Paduraru', \n",
    "        'username' : 'paduraru2009',\n",
    "        'password' : 'Arbori2009',\n",
    "        'birthday' : datetime.datetime(1986, 9, 3),\n",
    "        'expertise':2, \n",
    "        'preference':1, \n",
    "        'politely':2, \n",
    "        'emojis':1, \n",
    "        'motivation_factor':0.2, \n",
    "        'can_be_tricked_out_factor':0.0, \n",
    "        'intentional_damage_factor':0.5, \n",
    "        'correct_teamwork':0.5}\n",
    "\n",
    "\n",
    "\n",
    "df.loc[len(df.index)] = data\n",
    "\n",
    "save_credentials_dataset(df, 'data/credentials.csv')"
   ],
   "metadata": {
    "collapsed": false,
    "ExecuteTime": {
     "end_time": "2023-12-28T13:41:16.334477900Z",
     "start_time": "2023-12-28T13:41:16.322317200Z"
    }
   },
   "id": "f8e5aadd5dad1340",
   "execution_count": 38
  },
  {
   "cell_type": "code",
   "outputs": [
    {
     "name": "stdout",
     "output_type": "stream",
     "text": [
      "  name username password                   birthday  \\\n",
      "0                        2023-12-28 16:25:32.950444   \n",
      "\n",
      "                           expertise                        preference  \\\n",
      "0  SecurityOfficerExpertise.BEGINNER  Preference_ResponseType.DETAILED   \n",
      "\n",
      "                                  politely                        emojis  \\\n",
      "0  Preference_Politely.POLITE_PRESENTATION  Preference_Emojis.USE_EMOJIS   \n",
      "\n",
      "   motivation_factor  can_be_tricked_out_factor  intentional_damage_factor  \\\n",
      "0                1.0                        0.0                        0.0   \n",
      "\n",
      "   correct_teamwork  \n",
      "0               1.0  \n"
     ]
    }
   ],
   "source": [
    "# Print sample\n",
    "print(df)\n"
   ],
   "metadata": {
    "collapsed": false,
    "ExecuteTime": {
     "end_time": "2023-12-28T14:25:37.493882900Z",
     "start_time": "2023-12-28T14:25:37.488364900Z"
    }
   },
   "id": "9120ed98d4cbf4f",
   "execution_count": 6
  },
  {
   "cell_type": "code",
   "outputs": [],
   "source": [
    "from typing import Union\n",
    "\n",
    "def insertNewUser(user: SecurityOfficer, df: pd.DataFrame):\n",
    "        data = {name:value for name, value in user.__dict__.items()}\n",
    "        df.loc[len(df.index)] = data\n",
    "                \n",
    "a = SecurityOfficer()\n",
    "insertNewUser(a, df)"
   ],
   "metadata": {
    "collapsed": false,
    "ExecuteTime": {
     "end_time": "2023-12-28T14:34:53.741450400Z",
     "start_time": "2023-12-28T14:34:53.731223Z"
    }
   },
   "id": "b7ee5ef42309eafd",
   "execution_count": 8
  },
  {
   "cell_type": "code",
   "outputs": [
    {
     "ename": "IndexError",
     "evalue": "index 0 is out of bounds for axis 0 with size 0",
     "output_type": "error",
     "traceback": [
      "\u001B[1;31m---------------------------------------------------------------------------\u001B[0m",
      "\u001B[1;31mIndexError\u001B[0m                                Traceback (most recent call last)",
      "Cell \u001B[1;32mIn[10], line 10\u001B[0m\n\u001B[0;32m      7\u001B[0m                 \u001B[38;5;28mprint\u001B[39m(res, \u001B[38;5;28mtype\u001B[39m(res))\n\u001B[0;32m      8\u001B[0m                 \u001B[38;5;28;01mreturn\u001B[39;00m res\n\u001B[1;32m---> 10\u001B[0m getUserById(\u001B[38;5;124m\"\u001B[39m\u001B[38;5;124mpaduraru2009\u001B[39m\u001B[38;5;124m\"\u001B[39m)\n",
      "Cell \u001B[1;32mIn[10], line 6\u001B[0m, in \u001B[0;36mgetUserById\u001B[1;34m(userName)\u001B[0m\n\u001B[0;32m      4\u001B[0m         \u001B[38;5;28;01mreturn\u001B[39;00m \u001B[38;5;28;01mFalse\u001B[39;00m\n\u001B[0;32m      5\u001B[0m \u001B[38;5;28;01melse\u001B[39;00m:\n\u001B[1;32m----> 6\u001B[0m         res \u001B[38;5;241m=\u001B[39m row\u001B[38;5;241m.\u001B[39mvalues[\u001B[38;5;241m0\u001B[39m]\n\u001B[0;32m      7\u001B[0m         \u001B[38;5;28mprint\u001B[39m(res, \u001B[38;5;28mtype\u001B[39m(res))\n\u001B[0;32m      8\u001B[0m         \u001B[38;5;28;01mreturn\u001B[39;00m res\n",
      "\u001B[1;31mIndexError\u001B[0m: index 0 is out of bounds for axis 0 with size 0"
     ]
    }
   ],
   "source": [
    "def getUserById(userName:str) -> Union[SecurityOfficer, None]:\n",
    "        row = df.loc[df['username'] == userName]\n",
    "        if row is None:\n",
    "                return False\n",
    "        else:\n",
    "                res = row.values[0]\n",
    "                print(res, type(res))\n",
    "                return res\n",
    "        \n",
    "getUserById(\"paduraru2009\")"
   ],
   "metadata": {
    "collapsed": false,
    "ExecuteTime": {
     "end_time": "2023-12-28T14:35:07.772427700Z",
     "start_time": "2023-12-28T14:35:07.754967100Z"
    }
   },
   "id": "7bebd65affd14afa",
   "execution_count": 10
  },
  {
   "cell_type": "code",
   "outputs": [],
   "source": [],
   "metadata": {
    "collapsed": false
   },
   "id": "ccc9fbd09a085615"
  }
 ],
 "metadata": {
  "kernelspec": {
   "display_name": "Python 3",
   "language": "python",
   "name": "python3"
  },
  "language_info": {
   "codemirror_mode": {
    "name": "ipython",
    "version": 2
   },
   "file_extension": ".py",
   "mimetype": "text/x-python",
   "name": "python",
   "nbconvert_exporter": "python",
   "pygments_lexer": "ipython2",
   "version": "2.7.6"
  }
 },
 "nbformat": 4,
 "nbformat_minor": 5
}
