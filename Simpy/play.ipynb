{
 "cells": [
  {
   "cell_type": "code",
   "execution_count": 29,
   "id": "initial_id",
   "metadata": {
    "collapsed": true,
    "ExecuteTime": {
     "end_time": "2024-01-07T12:00:59.473979800Z",
     "start_time": "2024-01-07T12:00:59.470975800Z"
    }
   },
   "outputs": [],
   "source": [
    "import pandas as pd\n",
    "from enum import IntEnum\n",
    "from datetime import datetime"
   ]
  },
  {
   "cell_type": "code",
   "outputs": [],
   "source": [
    "class RequestType(IntEnum):\n",
    "    REQ_PUT = 1,\n",
    "    REQ_GET = 2,\n",
    "    REQ_DELETE = 3,\n",
    "    REQ_UPDATE=4\n",
    "    \n",
    "DATABASE_LOGS_columns = [\"ip\", \"long\", \"lat\", \"request_type\", \"request_params\"]\n",
    "DATABASE_LOGS_dtypes = [str, str, str, RequestType, str]\n",
    "\n",
    "d = pd.DataFrame({\"timestamp\":pd.Series(dtype=int),\n",
    "                  \"ip\":pd.Series(dtype='str'),\n",
    "                  \"long\":pd.Series(dtype='str'),\n",
    "                  \"lat\":pd.Series(dtype='str'),\n",
    "                  \"request_type\":pd.Series(dtype=int),\n",
    "                  \"request_params\":str})"
   ],
   "metadata": {
    "collapsed": false,
    "ExecuteTime": {
     "end_time": "2024-01-07T12:00:59.690808300Z",
     "start_time": "2024-01-07T12:00:59.685804500Z"
    }
   },
   "id": "bb395d9529e67765",
   "execution_count": 30
  },
  {
   "cell_type": "code",
   "outputs": [
    {
     "data": {
      "text/plain": "                   timestamp            ip long lat  request_type  \\\n0 2024-01-07 14:00:59.899582  192.168.3.11    A   A             1   \n\n     request_params  \n0  dsadsadsadsadsad  ",
      "text/html": "<div>\n<style scoped>\n    .dataframe tbody tr th:only-of-type {\n        vertical-align: middle;\n    }\n\n    .dataframe tbody tr th {\n        vertical-align: top;\n    }\n\n    .dataframe thead th {\n        text-align: right;\n    }\n</style>\n<table border=\"1\" class=\"dataframe\">\n  <thead>\n    <tr style=\"text-align: right;\">\n      <th></th>\n      <th>timestamp</th>\n      <th>ip</th>\n      <th>long</th>\n      <th>lat</th>\n      <th>request_type</th>\n      <th>request_params</th>\n    </tr>\n  </thead>\n  <tbody>\n    <tr>\n      <th>0</th>\n      <td>2024-01-07 14:00:59.899582</td>\n      <td>192.168.3.11</td>\n      <td>A</td>\n      <td>A</td>\n      <td>1</td>\n      <td>dsadsadsadsadsad</td>\n    </tr>\n  </tbody>\n</table>\n</div>"
     },
     "execution_count": 31,
     "metadata": {},
     "output_type": "execute_result"
    }
   ],
   "source": [
    "#d = d.append({\"ip\": \"192.168.3.11\", \"long\":\"A\", \"lat\":\"A\", \"request_type\":RequestType.REQ_PUT, \"request_params\":\"dsadsadsadsadsad\"}, ignore_index=True)\n",
    "\n",
    "d.loc[len(d)]={\"timestamp\": datetime.now(), \"ip\": \"192.168.3.11\", \"long\":\"A\", \"lat\":\"A\", \"request_type\":RequestType.REQ_PUT, \"request_params\":\"dsadsadsadsadsad\"}\n",
    "\n",
    "\n",
    "d.head()"
   ],
   "metadata": {
    "collapsed": false,
    "ExecuteTime": {
     "end_time": "2024-01-07T12:00:59.906906500Z",
     "start_time": "2024-01-07T12:00:59.900582800Z"
    }
   },
   "id": "53e629ff643b43f0",
   "execution_count": 31
  },
  {
   "cell_type": "code",
   "outputs": [],
   "source": [
    "\n"
   ],
   "metadata": {
    "collapsed": false
   },
   "id": "50a562f0c65d57a3"
  }
 ],
 "metadata": {
  "kernelspec": {
   "display_name": "Python 3",
   "language": "python",
   "name": "python3"
  },
  "language_info": {
   "codemirror_mode": {
    "name": "ipython",
    "version": 2
   },
   "file_extension": ".py",
   "mimetype": "text/x-python",
   "name": "python",
   "nbconvert_exporter": "python",
   "pygments_lexer": "ipython2",
   "version": "2.7.6"
  }
 },
 "nbformat": 4,
 "nbformat_minor": 5
}
